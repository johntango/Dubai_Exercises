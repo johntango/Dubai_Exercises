{
 "cells": [
  {
   "cell_type": "markdown",
   "metadata": {},
   "source": [
    "# NGRAMS"
   ]
  },
  {
   "cell_type": "code",
   "execution_count": null,
   "metadata": {},
   "outputs": [],
   "source": [
    "# \n",
    "\n",
    "import nltk \n",
    "from nltk.stem import PorterStemmer \n",
    "from nltk.tokenize import word_tokenize \n",
    "\n",
    "text = \"The quick brown foxes jumped over the lazy dogs.\" \n",
    "stemmer = PorterStemmer() \n",
    "tokens = word_tokenize(text) \n",
    "stemmed_tokens = [stemmer.stem(token) for token in tokens] \n",
    "print(stemmed_tokens)"
   ]
  },
  {
   "cell_type": "code",
   "execution_count": 14,
   "metadata": {},
   "outputs": [
    {
     "name": "stdout",
     "output_type": "stream",
     "text": [
      "141576\n",
      "[(('the', 'family', 'of'), 2), (('of', 'his', 'nephew'), 2), (('mr', 'henry', 'dashwood'), 2), (('the', 'norland', 'estate'), 2), (('the', 'old', 'gentleman'), 2), (('of', 'his', 'mother'), 2), (('which', 'had', 'been'), 2), (('as', 'to', 'leave'), 2), (('the', 'value', 'of'), 2), (('mr', 'john', 'dashwood'), 2)]\n"
     ]
    }
   ],
   "source": [
    "from nltk.util import ngrams\n",
    "from collections import Counter\n",
    "import nltk\n",
    "\n",
    "#import text from nltk\n",
    "words = nltk.corpus.gutenberg.words('austen-sense.txt')\n",
    "print(len(words))\n",
    "small_dataset= words[:1000]\n",
    "# clean the data to remove punctuations\n",
    "small_dataset = [word.lower() for word in small_dataset if word.isalpha()]\n",
    "\n",
    "\n",
    "# Create trigrams using NLTK's ngrams function\n",
    "trigrams = list(ngrams(small_dataset, 3))\n",
    "\n",
    "# Count trigram frequencies\n",
    "trigram_counts = Counter(trigrams)\n",
    "\n",
    "# Display the most common trigrams\n",
    "print(trigram_counts.most_common(10))\n"
   ]
  }
 ],
 "metadata": {
  "kernelspec": {
   "display_name": "Python 3",
   "language": "python",
   "name": "python3"
  },
  "language_info": {
   "codemirror_mode": {
    "name": "ipython",
    "version": 3
   },
   "file_extension": ".py",
   "mimetype": "text/x-python",
   "name": "python",
   "nbconvert_exporter": "python",
   "pygments_lexer": "ipython3",
   "version": "3.11.4"
  },
  "orig_nbformat": 4
 },
 "nbformat": 4,
 "nbformat_minor": 2
}
