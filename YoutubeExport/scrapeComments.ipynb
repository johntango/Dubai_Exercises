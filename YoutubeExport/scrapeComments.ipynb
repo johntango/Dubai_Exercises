{
 "cells": [
  {
   "cell_type": "markdown",
   "metadata": {},
   "source": [
    "# Scrape Youtube Comments"
   ]
  },
  {
   "cell_type": "code",
   "execution_count": 6,
   "metadata": {},
   "outputs": [],
   "source": [
    "from google.oauth2 import service_account\n",
    "from googleapiclient.discovery import build\n",
    "import json\n",
    "\n",
    "\n",
    "# Initialize YouTube API client\n",
    "def get_youtube_api_client(api_version='v3', scopes=('https://www.googleapis.com/auth/youtube.force-ssl',)):\n",
    "    credentials = service_account.Credentials.from_service_account_file(\n",
    "        'demoproject002-351320-8605cf1a2df6.json', scopes=scopes)\n",
    "    youtube = build('youtube', api_version, credentials=credentials)\n",
    "    return youtube\n",
    "\n",
    "# Fetch comments and their metadata from a video\n",
    "def get_video_comments_with_metadata(youtube, video_id, part='snippet,replies', max_results=100):\n",
    "    comments = []\n",
    "    results = youtube.commentThreads().list(\n",
    "        part=part,\n",
    "        videoId=video_id,\n",
    "        textFormat='plainText',\n",
    "        maxResults=max_results\n",
    "    ).execute()\n",
    "\n",
    "    while results:\n",
    "        for item in results['items']:\n",
    "            comment_data = {}\n",
    "            snippet = item['snippet']['topLevelComment']['snippet']\n",
    "            \n",
    "            # Collect various metadata\n",
    "            comment_data['comment'] = snippet['textDisplay']\n",
    "            comment_data['author'] = snippet['authorDisplayName']\n",
    "            comment_data['author_channel_url'] = snippet['authorChannelUrl']\n",
    "            comment_data['like_count'] = snippet['likeCount']\n",
    "            comment_data['published_at'] = snippet['publishedAt']\n",
    "            comment_data['updated_at'] = snippet['updatedAt']\n",
    "            \n",
    "            if 'replies' in item:\n",
    "                # Collect replies to the comment if available\n",
    "                comment_data['replies'] = [reply['snippet']['textDisplay'] for reply in item['replies']['comments']]\n",
    "            \n",
    "            comments.append(comment_data)\n",
    "        \n",
    "        # Check for more comments\n",
    "        if 'nextPageToken' in results:\n",
    "            results = youtube.commentThreads().list(\n",
    "                part=part,\n",
    "                videoId=video_id,\n",
    "                pageToken=results['nextPageToken'],\n",
    "                textFormat='plainText',\n",
    "                maxResults=max_results\n",
    "            ).execute()\n",
    "        else:\n",
    "            break\n",
    "\n",
    "    return comments\n",
    "\n",
    "# Modified part to fetch additional metadata\n",
    "if __name__ == '__main__':\n",
    "    youtube = get_youtube_api_client()\n",
    "    video_id = 'QBTwzYKx-kE'\n",
    "    comments_with_metadata = get_video_comments_with_metadata(youtube, video_id, part='snippet,replies')\n",
    "\n",
    "    # Write comments and their metadata to a JSON file\n",
    "    with open('youtube_comments_with_metadata.json', 'w', encoding='utf-8') as f:\n",
    "        json.dump(comments_with_metadata, f, ensure_ascii=False, indent=4)\n",
    "# Videos \n",
    "# Who has the WORST Customer Service: QBTwzYKx-kE"
   ]
  },
  {
   "cell_type": "code",
   "execution_count": 8,
   "metadata": {},
   "outputs": [
    {
     "ename": "AttributeError",
     "evalue": "'str' object has no attribute 'capabilities'",
     "output_type": "error",
     "traceback": [
      "\u001b[0;31m---------------------------------------------------------------------------\u001b[0m",
      "\u001b[0;31mAttributeError\u001b[0m                            Traceback (most recent call last)",
      "File \u001b[0;32m/Library/Frameworks/Python.framework/Versions/3.11/lib/python3.11/site-packages/selenium/webdriver/common/driver_finder.py:38\u001b[0m, in \u001b[0;36mDriverFinder.get_path\u001b[0;34m(service, options)\u001b[0m\n\u001b[1;32m     37\u001b[0m \u001b[39mtry\u001b[39;00m:\n\u001b[0;32m---> 38\u001b[0m     path \u001b[39m=\u001b[39m SeleniumManager()\u001b[39m.\u001b[39;49mdriver_location(options) \u001b[39mif\u001b[39;00m path \u001b[39mis\u001b[39;00m \u001b[39mNone\u001b[39;00m \u001b[39melse\u001b[39;00m path\n\u001b[1;32m     39\u001b[0m \u001b[39mexcept\u001b[39;00m \u001b[39mException\u001b[39;00m \u001b[39mas\u001b[39;00m err:\n",
      "File \u001b[0;32m/Library/Frameworks/Python.framework/Versions/3.11/lib/python3.11/site-packages/selenium/webdriver/common/selenium_manager.py:79\u001b[0m, in \u001b[0;36mSeleniumManager.driver_location\u001b[0;34m(self, options)\u001b[0m\n\u001b[1;32m     72\u001b[0m \u001b[39m\u001b[39m\u001b[39m\"\"\"Determines the path of the correct driver.\u001b[39;00m\n\u001b[1;32m     73\u001b[0m \n\u001b[1;32m     74\u001b[0m \u001b[39m:Args:\u001b[39;00m\n\u001b[1;32m     75\u001b[0m \u001b[39m - browser: which browser to get the driver path for.\u001b[39;00m\n\u001b[1;32m     76\u001b[0m \u001b[39m:Returns: The driver path to use\u001b[39;00m\n\u001b[1;32m     77\u001b[0m \u001b[39m\"\"\"\u001b[39;00m\n\u001b[0;32m---> 79\u001b[0m browser \u001b[39m=\u001b[39m options\u001b[39m.\u001b[39;49mcapabilities[\u001b[39m\"\u001b[39m\u001b[39mbrowserName\u001b[39m\u001b[39m\"\u001b[39m]\n\u001b[1;32m     81\u001b[0m args \u001b[39m=\u001b[39m [\u001b[39mstr\u001b[39m(\u001b[39mself\u001b[39m\u001b[39m.\u001b[39mget_binary()), \u001b[39m\"\u001b[39m\u001b[39m--browser\u001b[39m\u001b[39m\"\u001b[39m, browser]\n",
      "\u001b[0;31mAttributeError\u001b[0m: 'str' object has no attribute 'capabilities'",
      "\nDuring handling of the above exception, another exception occurred:\n",
      "\u001b[0;31mAttributeError\u001b[0m                            Traceback (most recent call last)",
      "\u001b[1;32m/Users/johnwilliams/MIT/Courses/Dubai/Dubai_Exercises/YoutubeExport/scrapeComments.ipynb Cell 3\u001b[0m line \u001b[0;36m4\n\u001b[1;32m      <a href='vscode-notebook-cell:/Users/johnwilliams/MIT/Courses/Dubai/Dubai_Exercises/YoutubeExport/scrapeComments.ipynb#W3sZmlsZQ%3D%3D?line=1'>2</a>\u001b[0m \u001b[39mimport\u001b[39;00m \u001b[39mselenium\u001b[39;00m\n\u001b[1;32m      <a href='vscode-notebook-cell:/Users/johnwilliams/MIT/Courses/Dubai/Dubai_Exercises/YoutubeExport/scrapeComments.ipynb#W3sZmlsZQ%3D%3D?line=2'>3</a>\u001b[0m \u001b[39mfrom\u001b[39;00m \u001b[39mselenium\u001b[39;00m \u001b[39mimport\u001b[39;00m webdriver \u001b[39mas\u001b[39;00m wb\n\u001b[0;32m----> <a href='vscode-notebook-cell:/Users/johnwilliams/MIT/Courses/Dubai/Dubai_Exercises/YoutubeExport/scrapeComments.ipynb#W3sZmlsZQ%3D%3D?line=3'>4</a>\u001b[0m webD \u001b[39m=\u001b[39m wb\u001b[39m.\u001b[39;49mChrome(\u001b[39m'\u001b[39;49m\u001b[39mchromedriver.exe\u001b[39;49m\u001b[39m'\u001b[39;49m)\n\u001b[1;32m      <a href='vscode-notebook-cell:/Users/johnwilliams/MIT/Courses/Dubai/Dubai_Exercises/YoutubeExport/scrapeComments.ipynb#W3sZmlsZQ%3D%3D?line=4'>5</a>\u001b[0m webD\u001b[39m.\u001b[39mget(\u001b[39m'\u001b[39m\u001b[39mhttps://www.youtube.com/watch?v=HJ1tofzX6Bk\u001b[39m\u001b[39m'\u001b[39m)\n\u001b[1;32m      <a href='vscode-notebook-cell:/Users/johnwilliams/MIT/Courses/Dubai/Dubai_Exercises/YoutubeExport/scrapeComments.ipynb#W3sZmlsZQ%3D%3D?line=5'>6</a>\u001b[0m \u001b[39m# we need to scroll down to load all the comments\u001b[39;00m\n",
      "File \u001b[0;32m/Library/Frameworks/Python.framework/Versions/3.11/lib/python3.11/site-packages/selenium/webdriver/chrome/webdriver.py:45\u001b[0m, in \u001b[0;36mWebDriver.__init__\u001b[0;34m(self, options, service, keep_alive)\u001b[0m\n\u001b[1;32m     42\u001b[0m service \u001b[39m=\u001b[39m service \u001b[39mif\u001b[39;00m service \u001b[39melse\u001b[39;00m Service()\n\u001b[1;32m     43\u001b[0m options \u001b[39m=\u001b[39m options \u001b[39mif\u001b[39;00m options \u001b[39melse\u001b[39;00m Options()\n\u001b[0;32m---> 45\u001b[0m \u001b[39msuper\u001b[39;49m()\u001b[39m.\u001b[39;49m\u001b[39m__init__\u001b[39;49m(\n\u001b[1;32m     46\u001b[0m     DesiredCapabilities\u001b[39m.\u001b[39;49mCHROME[\u001b[39m\"\u001b[39;49m\u001b[39mbrowserName\u001b[39;49m\u001b[39m\"\u001b[39;49m],\n\u001b[1;32m     47\u001b[0m     \u001b[39m\"\u001b[39;49m\u001b[39mgoog\u001b[39;49m\u001b[39m\"\u001b[39;49m,\n\u001b[1;32m     48\u001b[0m     options,\n\u001b[1;32m     49\u001b[0m     service,\n\u001b[1;32m     50\u001b[0m     keep_alive,\n\u001b[1;32m     51\u001b[0m )\n",
      "File \u001b[0;32m/Library/Frameworks/Python.framework/Versions/3.11/lib/python3.11/site-packages/selenium/webdriver/chromium/webdriver.py:51\u001b[0m, in \u001b[0;36mChromiumDriver.__init__\u001b[0;34m(self, browser_name, vendor_prefix, options, service, keep_alive)\u001b[0m\n\u001b[1;32m     47\u001b[0m \u001b[39mself\u001b[39m\u001b[39m.\u001b[39mvendor_prefix \u001b[39m=\u001b[39m vendor_prefix\n\u001b[1;32m     49\u001b[0m \u001b[39mself\u001b[39m\u001b[39m.\u001b[39mservice \u001b[39m=\u001b[39m service\n\u001b[0;32m---> 51\u001b[0m \u001b[39mself\u001b[39m\u001b[39m.\u001b[39mservice\u001b[39m.\u001b[39mpath \u001b[39m=\u001b[39m DriverFinder\u001b[39m.\u001b[39;49mget_path(\u001b[39mself\u001b[39;49m\u001b[39m.\u001b[39;49mservice, options)\n\u001b[1;32m     53\u001b[0m \u001b[39mself\u001b[39m\u001b[39m.\u001b[39mservice\u001b[39m.\u001b[39mstart()\n\u001b[1;32m     55\u001b[0m \u001b[39mtry\u001b[39;00m:\n",
      "File \u001b[0;32m/Library/Frameworks/Python.framework/Versions/3.11/lib/python3.11/site-packages/selenium/webdriver/common/driver_finder.py:40\u001b[0m, in \u001b[0;36mDriverFinder.get_path\u001b[0;34m(service, options)\u001b[0m\n\u001b[1;32m     38\u001b[0m     path \u001b[39m=\u001b[39m SeleniumManager()\u001b[39m.\u001b[39mdriver_location(options) \u001b[39mif\u001b[39;00m path \u001b[39mis\u001b[39;00m \u001b[39mNone\u001b[39;00m \u001b[39melse\u001b[39;00m path\n\u001b[1;32m     39\u001b[0m \u001b[39mexcept\u001b[39;00m \u001b[39mException\u001b[39;00m \u001b[39mas\u001b[39;00m err:\n\u001b[0;32m---> 40\u001b[0m     msg \u001b[39m=\u001b[39m \u001b[39mf\u001b[39m\u001b[39m\"\u001b[39m\u001b[39mUnable to obtain driver for \u001b[39m\u001b[39m{\u001b[39;00moptions\u001b[39m.\u001b[39;49mcapabilities[\u001b[39m'\u001b[39m\u001b[39mbrowserName\u001b[39m\u001b[39m'\u001b[39m]\u001b[39m}\u001b[39;00m\u001b[39m using Selenium Manager.\u001b[39m\u001b[39m\"\u001b[39m\n\u001b[1;32m     41\u001b[0m     \u001b[39mraise\u001b[39;00m NoSuchDriverException(msg) \u001b[39mfrom\u001b[39;00m \u001b[39merr\u001b[39;00m\n\u001b[1;32m     43\u001b[0m \u001b[39mif\u001b[39;00m path \u001b[39mis\u001b[39;00m \u001b[39mNone\u001b[39;00m \u001b[39mor\u001b[39;00m \u001b[39mnot\u001b[39;00m Path(path)\u001b[39m.\u001b[39mis_file():\n",
      "\u001b[0;31mAttributeError\u001b[0m: 'str' object has no attribute 'capabilities'"
     ]
    }
   ],
   "source": [
    "# we want to scrape comments from YouTube videos\n",
    "import selenium\n",
    "from selenium import webdriver as wb\n",
    "webD = wb.Chrome('chromedriver.exe')\n",
    "webD.get('https://www.youtube.com/watch?v=HJ1tofzX6Bk')\n",
    "# we need to scroll down to load all the comments\n",
    "import time\n",
    "for i in range(0,100):\n",
    "    webD.execute_script('window.scrollBy(0,1000)')\n",
    "    time.sleep(2)\n",
    "# we need to scrape the comments\n",
    "comment = webD.find_elements_by_id('content-text')\n",
    "comments = []\n",
    "for i in comment:\n",
    "    comments.append(i.text)\n",
    "# we need to save the comments in a csv file\n",
    "import pandas as pd\n",
    "df = pd.DataFrame(comments)\n",
    "df.to_csv('comments.csv')\n",
    "# we need to clean the comments\n",
    "\n",
    "\n"
   ]
  }
 ],
 "metadata": {
  "kernelspec": {
   "display_name": "Python 3",
   "language": "python",
   "name": "python3"
  },
  "language_info": {
   "codemirror_mode": {
    "name": "ipython",
    "version": 3
   },
   "file_extension": ".py",
   "mimetype": "text/x-python",
   "name": "python",
   "nbconvert_exporter": "python",
   "pygments_lexer": "ipython3",
   "version": "3.11.4"
  },
  "orig_nbformat": 4
 },
 "nbformat": 4,
 "nbformat_minor": 2
}
