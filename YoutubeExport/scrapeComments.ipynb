{
 "cells": [
  {
   "cell_type": "markdown",
   "metadata": {},
   "source": [
    "# Scrape Youtube Comments"
   ]
  },
  {
   "cell_type": "code",
   "execution_count": 5,
   "metadata": {},
   "outputs": [],
   "source": [
    "from google.oauth2 import service_account\n",
    "from googleapiclient.discovery import build\n",
    "import json\n",
    "\n",
    "\n",
    "\n",
    "# Initialize YouTube API client\n",
    "def get_youtube_api_client(api_version='v3', scopes=('https://www.googleapis.com/auth/youtube.force-ssl',)):\n",
    "    credentials = service_account.Credentials.from_service_account_file(\n",
    "        'demoproject002-351320-8605cf1a2df6.json', scopes=scopes)\n",
    "    youtube = build('youtube', api_version, credentials=credentials)\n",
    "    return youtube\n",
    "\n",
    "# Fetch comments and their metadata from a video\n",
    "def get_video_comments_with_metadata(youtube, video_id, part='snippet,replies', max_results=100):\n",
    "    comments = []\n",
    "    results = youtube.commentThreads().list(\n",
    "        part=part,\n",
    "        videoId=video_id,\n",
    "        textFormat='plainText',\n",
    "        maxResults=max_results\n",
    "    ).execute()\n",
    "\n",
    "    while results:\n",
    "        for item in results['items']:\n",
    "            comment_data = {}\n",
    "            snippet = item['snippet']['topLevelComment']['snippet']\n",
    "            \n",
    "            # Collect various metadata\n",
    "            comment_data['comment'] = snippet['textDisplay']\n",
    "            comment_data['author'] = snippet['authorDisplayName']\n",
    "            comment_data['author_channel_url'] = snippet['authorChannelUrl']\n",
    "            comment_data['like_count'] = snippet['likeCount']\n",
    "            comment_data['published_at'] = snippet['publishedAt']\n",
    "            comment_data['updated_at'] = snippet['updatedAt']\n",
    "            \n",
    "            if 'replies' in item:\n",
    "                # Collect replies to the comment if available\n",
    "                comment_data['replies'] = [reply['snippet']['textDisplay'] for reply in item['replies']['comments']]\n",
    "            \n",
    "            comments.append(comment_data)\n",
    "        \n",
    "        # Check for more comments\n",
    "        if 'nextPageToken' in results:\n",
    "            results = youtube.commentThreads().list(\n",
    "                part=part,\n",
    "                videoId=video_id,\n",
    "                pageToken=results['nextPageToken'],\n",
    "                textFormat='plainText',\n",
    "                maxResults=max_results\n",
    "            ).execute()\n",
    "        else:\n",
    "            break\n",
    "\n",
    "    return comments\n",
    "\n",
    "# Modified part to fetch additional metadata\n",
    "if __name__ == '__main__':\n",
    "    youtube = get_youtube_api_client()\n",
    "    video_id = 'QBTwzYKx-kE'\n",
    "    comments_with_metadata = get_video_comments_with_metadata(youtube, video_id, part='snippet,replies')\n",
    "\n",
    "    # Write comments and their metadata to a JSON file\n",
    "    with open('youtube_comments_with_metadata.json', 'w', encoding='utf-8') as f:\n",
    "        json.dump(comments_with_metadata, f, ensure_ascii=False, indent=4)\n"
   ]
  }
 ],
 "metadata": {
  "kernelspec": {
   "display_name": "Python 3",
   "language": "python",
   "name": "python3"
  },
  "language_info": {
   "codemirror_mode": {
    "name": "ipython",
    "version": 3
   },
   "file_extension": ".py",
   "mimetype": "text/x-python",
   "name": "python",
   "nbconvert_exporter": "python",
   "pygments_lexer": "ipython3",
   "version": "3.11.4"
  },
  "orig_nbformat": 4
 },
 "nbformat": 4,
 "nbformat_minor": 2
}
