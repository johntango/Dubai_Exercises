{
 "cells": [
  {
   "cell_type": "markdown",
   "metadata": {},
   "source": [
    "# Embed complaints and then use embeddings to predict positive or negative"
   ]
  },
  {
   "cell_type": "code",
   "execution_count": 143,
   "metadata": {},
   "outputs": [],
   "source": [
    "import openai\n",
    "import pandas as pd\n",
    "import numpy as np\n",
    "import matplotlib.pyplot as plt\n",
    "import gradio as gr\n",
    "import json\n"
   ]
  },
  {
   "cell_type": "code",
   "execution_count": 144,
   "metadata": {},
   "outputs": [],
   "source": [
    "# get the API key from the json file\n",
    "with open('openai_key.json') as f:\n",
    "    data = json.load(f)\n",
    "    api_key = data['OPENAI_API_KEY']\n",
    "    openai.api_key = api_key"
   ]
  },
  {
   "cell_type": "code",
   "execution_count": 145,
   "metadata": {},
   "outputs": [],
   "source": [
    "# load the complaints from csv format into a dataframe\n",
    "complaints = pd.read_csv('banking_service_varied_comments.csv')\n",
    "# loop over complaints and get the embeddings\n",
    "embeddings = []\n",
    "for complaint in complaints['Complaint']:\n",
    "    model=\"text-embedding-ada-002\"\n",
    "    vec = openai.Embedding.create(input = [complaint], model=model)['data'][0]['embedding']\n",
    "    embeddings.append(vec)\n",
    "# add the embeddings to the dataframe\n",
    "complaints['embeddings'] = embeddings\n",
    "complaints.head()\n",
    "# save the dataframe to csv for later use\n",
    "complaints.to_csv('comments_Embed.csv')\n"
   ]
  },
  {
   "cell_type": "code",
   "execution_count": 178,
   "metadata": {},
   "outputs": [
    {
     "data": {
      "text/html": [
       "<div>\n",
       "<style scoped>\n",
       "    .dataframe tbody tr th:only-of-type {\n",
       "        vertical-align: middle;\n",
       "    }\n",
       "\n",
       "    .dataframe tbody tr th {\n",
       "        vertical-align: top;\n",
       "    }\n",
       "\n",
       "    .dataframe thead th {\n",
       "        text-align: right;\n",
       "    }\n",
       "</style>\n",
       "<table border=\"1\" class=\"dataframe\">\n",
       "  <thead>\n",
       "    <tr style=\"text-align: right;\">\n",
       "      <th></th>\n",
       "      <th>Unnamed: 0</th>\n",
       "      <th>Category</th>\n",
       "      <th>Score</th>\n",
       "      <th>Complaint</th>\n",
       "      <th>embeddings</th>\n",
       "      <th>Area</th>\n",
       "    </tr>\n",
       "  </thead>\n",
       "  <tbody>\n",
       "    <tr>\n",
       "      <th>0</th>\n",
       "      <td>0</td>\n",
       "      <td>Online and Mobile Banking</td>\n",
       "      <td>-1</td>\n",
       "      <td>The mobile app crashes frequently, making it u...</td>\n",
       "      <td>[-0.023478509858250618, -0.003465280868113041,...</td>\n",
       "      <td>0</td>\n",
       "    </tr>\n",
       "    <tr>\n",
       "      <th>1</th>\n",
       "      <td>1</td>\n",
       "      <td>Credit Cards</td>\n",
       "      <td>1</td>\n",
       "      <td>The low interest rates are a big plus for me.</td>\n",
       "      <td>[-0.033650778234004974, -0.0003719516389537602...</td>\n",
       "      <td>1</td>\n",
       "    </tr>\n",
       "    <tr>\n",
       "      <th>2</th>\n",
       "      <td>2</td>\n",
       "      <td>Online and Mobile Banking</td>\n",
       "      <td>-1</td>\n",
       "      <td>The online banking system experiences frequent...</td>\n",
       "      <td>[-0.03475111350417137, -0.025881528854370117, ...</td>\n",
       "      <td>0</td>\n",
       "    </tr>\n",
       "    <tr>\n",
       "      <th>3</th>\n",
       "      <td>3</td>\n",
       "      <td>Loans and Mortgages</td>\n",
       "      <td>-1</td>\n",
       "      <td>I was surprised by the hidden fees that were n...</td>\n",
       "      <td>[0.011091673746705055, -0.005718418397009373, ...</td>\n",
       "      <td>2</td>\n",
       "    </tr>\n",
       "    <tr>\n",
       "      <th>4</th>\n",
       "      <td>4</td>\n",
       "      <td>Investment Services</td>\n",
       "      <td>1</td>\n",
       "      <td>The low management fees make it an attractive ...</td>\n",
       "      <td>[-0.006059455219656229, -0.0028847488574683666...</td>\n",
       "      <td>3</td>\n",
       "    </tr>\n",
       "    <tr>\n",
       "      <th>5</th>\n",
       "      <td>5</td>\n",
       "      <td>Online and Mobile Banking</td>\n",
       "      <td>-1</td>\n",
       "      <td>The mobile app crashes frequently, making it u...</td>\n",
       "      <td>[-0.023460088297724724, -0.0034612168092280626...</td>\n",
       "      <td>0</td>\n",
       "    </tr>\n",
       "    <tr>\n",
       "      <th>6</th>\n",
       "      <td>6</td>\n",
       "      <td>Investment Services</td>\n",
       "      <td>-1</td>\n",
       "      <td>The portfolio options are limited and not suit...</td>\n",
       "      <td>[-0.02556699328124523, -0.04389537125825882, 0...</td>\n",
       "      <td>3</td>\n",
       "    </tr>\n",
       "    <tr>\n",
       "      <th>7</th>\n",
       "      <td>7</td>\n",
       "      <td>Credit Cards</td>\n",
       "      <td>1</td>\n",
       "      <td>Customer service was very helpful in resolving...</td>\n",
       "      <td>[-0.003974739462137222, 0.006052590906620026, ...</td>\n",
       "      <td>1</td>\n",
       "    </tr>\n",
       "    <tr>\n",
       "      <th>8</th>\n",
       "      <td>8</td>\n",
       "      <td>Credit Cards</td>\n",
       "      <td>-1</td>\n",
       "      <td>The interest rates are much higher compared to...</td>\n",
       "      <td>[-0.021048400551080704, -1.5677176634198986e-0...</td>\n",
       "      <td>1</td>\n",
       "    </tr>\n",
       "    <tr>\n",
       "      <th>9</th>\n",
       "      <td>9</td>\n",
       "      <td>Credit Cards</td>\n",
       "      <td>1</td>\n",
       "      <td>I appreciate the absence of annual fees on thi...</td>\n",
       "      <td>[-0.024668579921126366, 0.013879268430173397, ...</td>\n",
       "      <td>1</td>\n",
       "    </tr>\n",
       "  </tbody>\n",
       "</table>\n",
       "</div>"
      ],
      "text/plain": [
       "   Unnamed: 0                   Category  Score  \\\n",
       "0           0  Online and Mobile Banking     -1   \n",
       "1           1               Credit Cards      1   \n",
       "2           2  Online and Mobile Banking     -1   \n",
       "3           3        Loans and Mortgages     -1   \n",
       "4           4        Investment Services      1   \n",
       "5           5  Online and Mobile Banking     -1   \n",
       "6           6        Investment Services     -1   \n",
       "7           7               Credit Cards      1   \n",
       "8           8               Credit Cards     -1   \n",
       "9           9               Credit Cards      1   \n",
       "\n",
       "                                           Complaint  \\\n",
       "0  The mobile app crashes frequently, making it u...   \n",
       "1      The low interest rates are a big plus for me.   \n",
       "2  The online banking system experiences frequent...   \n",
       "3  I was surprised by the hidden fees that were n...   \n",
       "4  The low management fees make it an attractive ...   \n",
       "5  The mobile app crashes frequently, making it u...   \n",
       "6  The portfolio options are limited and not suit...   \n",
       "7  Customer service was very helpful in resolving...   \n",
       "8  The interest rates are much higher compared to...   \n",
       "9  I appreciate the absence of annual fees on thi...   \n",
       "\n",
       "                                          embeddings  Area  \n",
       "0  [-0.023478509858250618, -0.003465280868113041,...     0  \n",
       "1  [-0.033650778234004974, -0.0003719516389537602...     1  \n",
       "2  [-0.03475111350417137, -0.025881528854370117, ...     0  \n",
       "3  [0.011091673746705055, -0.005718418397009373, ...     2  \n",
       "4  [-0.006059455219656229, -0.0028847488574683666...     3  \n",
       "5  [-0.023460088297724724, -0.0034612168092280626...     0  \n",
       "6  [-0.02556699328124523, -0.04389537125825882, 0...     3  \n",
       "7  [-0.003974739462137222, 0.006052590906620026, ...     1  \n",
       "8  [-0.021048400551080704, -1.5677176634198986e-0...     1  \n",
       "9  [-0.024668579921126366, 0.013879268430173397, ...     1  "
      ]
     },
     "execution_count": 178,
     "metadata": {},
     "output_type": "execute_result"
    }
   ],
   "source": [
    "# Read complaints in and map the categories to numbers in Area\n",
    "complaints = pd.read_csv('comments_Embed.csv')\n",
    "categories = complaints['Category'].unique()    # unique categories\n",
    "category_map = {}\n",
    "for i in range(len(categories)):   # map the catagories to numbers\n",
    "    category_map[categories[i]] = i\n",
    "# add the category numbers to the dataframe\n",
    "complaints['Area'] = complaints['Category'].map(category_map)\n",
    "complaints[:10]"
   ]
  },
  {
   "cell_type": "markdown",
   "metadata": {},
   "source": [
    "### Dataframe of embeddings causes problems. We need to be careful because \"complaints.embeddings\" is a Pandas Series and we need a Numpy matrix ie array of arrays. "
   ]
  },
  {
   "cell_type": "code",
   "execution_count": 154,
   "metadata": {},
   "outputs": [
    {
     "name": "stdout",
     "output_type": "stream",
     "text": [
      "(100, 2)\n",
      "[0 1 0 2 3 0 3 1 1 1 0 2 2 1 0 2 3 1 0 3 2 3 3 2 2 0 3 3 0 0 0 1 2 2 1 0 1\n",
      " 0 0 2 3 0 2 0 3 3 1 3 2 0 1 1 3 3 2 2 3 0 3 1 3 3 1 2 2 3 2 2 2 3 2 2 1 2\n",
      " 0 2 3 1 2 0 0 1 1 1 2 1 0 0 2 3 0 2 0 3 1 1 0 2 2 1]\n"
     ]
    },
    {
     "data": {
      "image/png": "[encoded data removed]",
      "text/plain": [
       "<Figure size 640x480 with 1 Axes>"
      ]
     },
     "metadata": {},
     "output_type": "display_data"
    }
   ],
   "source": [
    "# plot the embeddings clusters using TSNE - remember complaints is a dataframe\n",
    "from sklearn.manifold import TSNE\n",
    "import matplotlib\n",
    "from ast import literal_eval\n",
    "tsne = TSNE(n_components=2, random_state=3)\n",
    "# convert Pandas embedding array to a numpy array of arrays\n",
    "# The matrix is calculated from the ebmeddings \n",
    "matrix = np.array(complaints.embeddings.apply(literal_eval).to_list())  # this is the line that takes a while\n",
    "\n",
    "X_2d = tsne.fit_transform(matrix)\n",
    "print(X_2d.shape)\n",
    "colors = [\"red\", \"darkorange\",  \"blue\", \"darkgreen\",\"purple\"]\n",
    "x = [x for x,y in X_2d]\n",
    "y = [y for x,y in X_2d]\n",
    "color_indices = complaints.Area.values \n",
    "print(color_indices)\n",
    "colormap = matplotlib.colors.ListedColormap(colors)\n",
    "plt.scatter(x, y, c=color_indices, cmap=colormap, alpha=0.7)\n",
    "plt.show()"
   ]
  },
  {
   "cell_type": "code",
   "execution_count": 179,
   "metadata": {},
   "outputs": [
    {
     "name": "stdout",
     "output_type": "stream",
     "text": [
      "80\n"
     ]
    }
   ],
   "source": [
    "# split the data into training and test sets for classification of Score from the embeddings\n",
    "# Score = sentiment,  Area = product category\n",
    "from sklearn.model_selection import train_test_split\n",
    "\n",
    "matrix = np.array(complaints.embeddings.apply(literal_eval).to_list())\n",
    "X_train, X_test, y_train, y_test = train_test_split(\n",
    "    complaints.embeddings.apply(literal_eval).to_list(),\n",
    "    complaints.Score.values,  # Score = +1 or -1 AND Area = 0,1,2,3 \n",
    "    test_size = 0.2,\n",
    "    random_state=42\n",
    ")\n",
    "# print lenght of training set\n",
    "print(len(X_train))"
   ]
  },
  {
   "cell_type": "code",
   "execution_count": 180,
   "metadata": {},
   "outputs": [
    {
     "name": "stdout",
     "output_type": "stream",
     "text": [
      "[ 0.8 -0.8  1.   1.  -0.8  1.  -0.8 -1.   1.  -1.   0.   0.6 -1.  -1.\n",
      "  0.4  1.   1.  -1.   1.   1. ]\n"
     ]
    }
   ],
   "source": [
    "from sklearn.ensemble import RandomForestRegressor\n",
    "\n",
    "rfr = RandomForestRegressor(n_estimators=10) # n_estimators is the number of trees\n",
    "rfr.fit(X_train, y_train)\n",
    "preds = rfr.predict(X_test)\n",
    "print(preds)\n",
    "# these should be +1 or -1 for the sentiment and Areas 0,1,2,3 for the product categories"
   ]
  },
  {
   "cell_type": "code",
   "execution_count": 181,
   "metadata": {},
   "outputs": [
    {
     "name": "stdout",
     "output_type": "stream",
     "text": [
      "0.28982753492378877\n"
     ]
    }
   ],
   "source": [
    "# compare the predictions to the actual scores\n",
    "from sklearn.metrics import mean_squared_error\n",
    "from math import sqrt\n",
    "rmse = sqrt(mean_squared_error(y_test, preds))\n",
    "print(rmse)"
   ]
  },
  {
   "cell_type": "code",
   "execution_count": null,
   "metadata": {},
   "outputs": [],
   "source": []
  }
 ],
 "metadata": {
  "kernelspec": {
   "display_name": "Python 3",
   "language": "python",
   "name": "python3"
  },
  "language_info": {
   "codemirror_mode": {
    "name": "ipython",
    "version": 3
   },
   "file_extension": ".py",
   "mimetype": "text/x-python",
   "name": "python",
   "nbconvert_exporter": "python",
   "pygments_lexer": "ipython3",
   "version": "3.11.4"
  },
  "orig_nbformat": 4
 },
 "nbformat": 4,
 "nbformat_minor": 2
}
