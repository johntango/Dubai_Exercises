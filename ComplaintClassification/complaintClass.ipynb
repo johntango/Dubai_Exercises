{
 "cells": [
  {
   "cell_type": "markdown",
   "metadata": {},
   "source": [
    "# Create an Embedding for Each Complaint so that We can Classify the Complaint"
   ]
  },
  {
   "cell_type": "code",
   "execution_count": 221,
   "metadata": {},
   "outputs": [],
   "source": [
    "import openai\n",
    "import pandas as pd\n",
    "import numpy as np\n",
    "import matplotlib.pyplot as plt\n",
    "import gradio as gr\n",
    "import json\n"
   ]
  },
  {
   "cell_type": "code",
   "execution_count": 308,
   "metadata": {},
   "outputs": [],
   "source": [
    "# get the API key from the json file\n",
    "with open('openai_key.json') as f:\n",
    "    data = json.load(f)\n",
    "    api_key = data['OPENAI_API_KEY']\n",
    "    openai.api_key = api_key"
   ]
  },
  {
   "cell_type": "code",
   "execution_count": 309,
   "metadata": {},
   "outputs": [],
   "source": [
    "# load the complaints from csv friendly format\n",
    "complaints = pd.read_csv('banking_service_varied_comments.csv')\n",
    "# get categories\n",
    "areas = complaints['Category'].unique()\n",
    "# change areas from a list to a comma separated string\n",
    "areas = ','.join(areas)\n",
    "areas = 'Online and Mobile Banking,Credit Cards,Loans and Mortgages,Investment Services'\n"
   ]
  },
  {
   "cell_type": "code",
   "execution_count": 310,
   "metadata": {},
   "outputs": [],
   "source": [
    "# call openai to classify the complaint into one of the categories in areas\n",
    "areas = 'Online and Mobile Banking,Credit Cards,Loans and Mortgages,Investment Services'\n",
    "\n",
    "def classifyComplaint(complaint):\n",
    "    # call openai to classify the complaint into one of the categories in areas\n",
    "    messages=[{\"role\": \"system\", \"content\": f'Classify any complaint as positive or negative with level of certainint (high, medium or low) and assign it to one of the following product areas {areas}. Answer in json format: {{\"category\": \"Online and Mobile Banking\", \"sentiment\": \"positive\", \"certainty\": \"high\"}}'},\n",
    "            {\"role\": \"user\", \"content\": complaint}]\n",
    "  \n",
    "   \n",
    "    response = openai.ChatCompletion.create(\n",
    "        model=\"gpt-4\",\n",
    "        messages=messages,\n",
    "        temperature=0,\n",
    "        max_tokens=1024\n",
    "    )\n",
    "    # get the category\n",
    "    return response['choices'][0]"
   ]
  },
  {
   "cell_type": "code",
   "execution_count": 311,
   "metadata": {},
   "outputs": [
    {
     "name": "stdout",
     "output_type": "stream",
     "text": [
      "{\n",
      "  \"index\": 0,\n",
      "  \"message\": {\n",
      "    \"role\": \"assistant\",\n",
      "    \"content\": \"{\\\"category\\\": \\\"Online and Mobile Banking\\\", \\\"sentiment\\\": \\\"negative\\\", \\\"certainty\\\": \\\"high\\\"}\"\n",
      "  },\n",
      "  \"finish_reason\": \"stop\"\n",
      "}\n",
      "{\n",
      "  \"index\": 0,\n",
      "  \"message\": {\n",
      "    \"role\": \"assistant\",\n",
      "    \"content\": \"{\\\"category\\\": \\\"Loans and Mortgages\\\", \\\"sentiment\\\": \\\"positive\\\", \\\"certainty\\\": \\\"medium\\\"}\"\n",
      "  },\n",
      "  \"finish_reason\": \"stop\"\n",
      "}\n",
      "{\n",
      "  \"index\": 0,\n",
      "  \"message\": {\n",
      "    \"role\": \"assistant\",\n",
      "    \"content\": \"{\\\"category\\\": \\\"Online and Mobile Banking\\\", \\\"sentiment\\\": \\\"negative\\\", \\\"certainty\\\": \\\"high\\\"}\"\n",
      "  },\n",
      "  \"finish_reason\": \"stop\"\n",
      "}\n",
      "{\n",
      "  \"index\": 0,\n",
      "  \"message\": {\n",
      "    \"role\": \"assistant\",\n",
      "    \"content\": \"{\\\"category\\\": \\\"Loans and Mortgages\\\", \\\"sentiment\\\": \\\"negative\\\", \\\"certainty\\\": \\\"high\\\"}\"\n",
      "  },\n",
      "  \"finish_reason\": \"stop\"\n",
      "}\n",
      "{\n",
      "  \"index\": 0,\n",
      "  \"message\": {\n",
      "    \"role\": \"assistant\",\n",
      "    \"content\": \"{\\\"category\\\": \\\"Investment Services\\\", \\\"sentiment\\\": \\\"positive\\\", \\\"certainty\\\": \\\"medium\\\"}\"\n",
      "  },\n",
      "  \"finish_reason\": \"stop\"\n",
      "}\n",
      "{\n",
      "  \"index\": 0,\n",
      "  \"message\": {\n",
      "    \"role\": \"assistant\",\n",
      "    \"content\": \"{\\\"category\\\": \\\"Online and Mobile Banking\\\", \\\"sentiment\\\": \\\"negative\\\", \\\"certainty\\\": \\\"high\\\"}\"\n",
      "  },\n",
      "  \"finish_reason\": \"stop\"\n",
      "}\n",
      "{\n",
      "  \"index\": 0,\n",
      "  \"message\": {\n",
      "    \"role\": \"assistant\",\n",
      "    \"content\": \"{\\\"category\\\": \\\"Investment Services\\\", \\\"sentiment\\\": \\\"negative\\\", \\\"certainty\\\": \\\"high\\\"}\"\n",
      "  },\n",
      "  \"finish_reason\": \"stop\"\n",
      "}\n",
      "{\n",
      "  \"index\": 0,\n",
      "  \"message\": {\n",
      "    \"role\": \"assistant\",\n",
      "    \"content\": \"{\\\"category\\\": \\\"Online and Mobile Banking\\\", \\\"sentiment\\\": \\\"positive\\\", \\\"certainty\\\": \\\"high\\\"}\"\n",
      "  },\n",
      "  \"finish_reason\": \"stop\"\n",
      "}\n",
      "{\n",
      "  \"index\": 0,\n",
      "  \"message\": {\n",
      "    \"role\": \"assistant\",\n",
      "    \"content\": \"{\\\"category\\\": \\\"Credit Cards\\\", \\\"sentiment\\\": \\\"negative\\\", \\\"certainty\\\": \\\"high\\\"}\"\n",
      "  },\n",
      "  \"finish_reason\": \"stop\"\n",
      "}\n"
     ]
    }
   ],
   "source": [
    "# loop over each complaint and classify it\n",
    "for i in range(9):\n",
    "    complaint = complaints.loc[i, 'Complaint']\n",
    "    category= classifyComplaint(complaint)\n",
    "    print(category)\n",
    "    \n",
    "    #break"
   ]
  }
 ],
 "metadata": {
  "kernelspec": {
   "display_name": "Python 3",
   "language": "python",
   "name": "python3"
  },
  "language_info": {
   "name": "python",
   "version": "3.11.4"
  },
  "orig_nbformat": 4
 },
 "nbformat": 4,
 "nbformat_minor": 2
}
